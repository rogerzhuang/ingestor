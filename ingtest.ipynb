{
 "cells": [
  {
   "cell_type": "code",
   "execution_count": 64,
   "metadata": {},
   "outputs": [
    {
     "name": "stdout",
     "output_type": "stream",
     "text": [
      "[Document(page_content='33\\n\\nAutomotive sales revenue increased $11.48 billion, or 65%, in the six months ended June 30, 2022 as compared to the six months ended June 30, 2021, primarily due to an increase of 156,279 Model 3 and Model Y cash deliveries, and an increase of 22,963 Model S and Model X cash deliveries year over year. This was achieved from production ramping of Model Y at Gigafactory Shanghai and the Fremont Factory as well as the start of production at Gigafactory Berlin-Brandenburg and Gigafactory Texas in 2022, at a higher combined average selling price from a higher proportion of Model Y sales offset by regional sales mix. There was also an increase in production and an increase in the average selling price of Model S and Model X with a higher proportion of Model X sales, compared to the prior period as deliveries of the new versions of Model S and Model X only began ramping in the second and fourth quarters of 2021, respectively.\\n\\nAutomotive regulatory credits revenue decreased $10 million, or 3%, in the three months ended June 30, 2022 as compared to the three months ended June 30, 2021 primarily due to changes in pricing in certain regions.\\n\\nAutomotive regulatory credits revenue increased $151 million, or 17%, in the six months ended June 30, 2022 as compared to the six months ended June 30, 2021, primarily due to changes in regulation which entitled us to additional consideration of $288 million in revenue in the first quarter of 2022 for credits sold previously, in the absence of which we had a decrease in automotive regulatory credits revenue driven by lower sales of regulatory credits.\\n\\nAutomotive leasing revenue increased $256 million, or 77%, in the three months ended June 30, 2022 as compared to the three months ended June 30, 2021. Automotive leasing revenue increased $627 million, or 100%, in the six months ended June 30, 2022 as compared to the six months ended June 30, 2021. The changes for both periods are primarily due to an increase in direct sales-type leasing revenue and an increase in activities under our direct operating lease program.', metadata={'form_type': '10-Q', 'report_date': 20220630.0, 'source': 'https://www.sec.gov/Archives/edgar/data/1318605/000095017022012936/tsla-20220630.htm', 'symbol': 'TSLA'}), Document(page_content='For a description of our critical accounting policies and estimates, please refer to the “Critical Accounting Policies and Estimates” section of our Management’s Discussion and Analysis of Financial Condition and Results of Operations contained in our Annual Report on Form\\xa010-K for the year ended December\\xa031, 2015, as filed with the Securities and Exchange Commission (SEC). In addition, please refer to Note 2, “Summary of Significant Accounting Policies,” to our Consolidated Financial Statements included under Part\\xa0I, Item\\xa01 of this Quarterly Report on Form\\xa010-Q which also includes discussion of Recent Accounting Pronouncements that may impact us.\\n\\n25\\n\\nResults of Operations\\n\\nRevenues\\n\\nAutomotive revenue includes revenues related to deliveries of new Model S and Model X vehicles, including internet connectivity, Supercharging access, and specified software updates for cars equipped with Autopilot hardware, as well as sales of regulatory credits to other automotive manufacturers, amortization of revenue for cars sold with resale value guarantees, and Model S leasing revenue.\\n\\nServices and other revenue consists of sales of electric vehicle powertrain components and systems to other manufacturers, maintenance and development services, Tesla Energy products, and pre-owned Tesla vehicles.\\n\\nAutomotive revenue during the three months ended March 31, 2016 were $1.03 billion, an increase from $893.3 million during the three months ended March 31, 2015. The increase was primarily driven by Model X deliveries and an increase in the active population of cars subject to lease accounting. For the three months ended March 31, 2016, automotive revenue includes $124.2 million from the accretion of the deferred revenues from our resale value guarantee and other similar programs, as well as Model S leasing, an increase from $53.7 million during the three months ended March 31, 2015 as a result of a greater number of resale value guarantees.\\n\\nService and other revenue during the three months ended March 31, 2016 were $121.0 million, an increase from $46.6 million during the three months ended March 31, 2015, related primarily to increases in pre-owned vehicle sales, Tesla Energy sales, and\\xa0\\xa0maintenance service revenue.\\n\\nCost of Revenues and Gross Profit', metadata={'form_type': '10-Q', 'report_date': 20160331.0, 'source': 'https://www.sec.gov/Archives/edgar/data/1318605/000156459016018886/tsla-10q_20160331.htm', 'symbol': 'TSLA'})]\n"
     ]
    }
   ],
   "source": [
    "from tqdm.autonotebook import tqdm\n",
    "import pinecone\n",
    "import os\n",
    "from dotenv import load_dotenv\n",
    "from langchain.embeddings.openai import OpenAIEmbeddings\n",
    "load_dotenv()\n",
    "pinecone_key = os.environ[\"PINECONE_API_KEY\"]\n",
    "pinecone_env = os.environ[\"PINECONE_ENV\"]\n",
    "pinecone.init(api_key=pinecone_key, environment=pinecone_env)\n",
    "index = pinecone.Index(\"edgar\")\n",
    "openai_key = os.environ[\"OPENAI_API_KEY\"]\n",
    "embeddings = OpenAIEmbeddings(openai_api_key=openai_key)\n",
    "from langchain.vectorstores import Pinecone\n",
    "vectorstore = Pinecone(\n",
    "    index, embeddings.embed_query, 'text'\n",
    ")\n",
    "# vectorstore = Pinecone.from_existing_index(index, embeddings)\n",
    "docs = vectorstore.similarity_search(\"how was tesla's revenue in 2023 Q1 compared with that in 2022 Q1?\", k=2)\n",
    "print(docs)"
   ]
  },
  {
   "cell_type": "code",
   "execution_count": 66,
   "metadata": {},
   "outputs": [
    {
     "data": {
      "text/plain": [
       "{'form_type': '10-Q',\n",
       " 'report_date': 20160331.0,\n",
       " 'source': 'https://www.sec.gov/Archives/edgar/data/1318605/000156459016018886/tsla-10q_20160331.htm',\n",
       " 'symbol': 'TSLA'}"
      ]
     },
     "execution_count": 66,
     "metadata": {},
     "output_type": "execute_result"
    }
   ],
   "source": [
    "docs[1].metadata"
   ]
  },
  {
   "cell_type": "code",
   "execution_count": 28,
   "metadata": {},
   "outputs": [
    {
     "name": "stdout",
     "output_type": "stream",
     "text": [
      "789019,000156459022026876,msft-10k_20220630.htm\n",
      "20220630\n"
     ]
    }
   ],
   "source": [
    "import re\n",
    "\n",
    "txt = \"\"\"\n",
    "<SEC-DOCUMENT>0001564590-22-026876.txt : 20220728\n",
    "<SEC-HEADER>0001564590-22-026876.hdr.sgml : 20220728\n",
    "<ACCEPTANCE-DATETIME>20220728160619\n",
    "ACCESSION NUMBER: 0001564590-22-026876\n",
    "CONFORMED SUBMISSION TYPE: 10-K\n",
    "PUBLIC DOCUMENT COUNT: 134\n",
    "CONFORMED PERIOD OF REPORT: 20220630\n",
    "FILED AS OF DATE: 20220728\n",
    "DATE AS OF CHANGE: 20220728\n",
    "FILER:\n",
    "COMPANY DATA:\n",
    "COMPANY CONFORMED NAME: MICROSOFT CORP\n",
    "CENTRAL INDEX KEY: 0000789019\n",
    "STANDARD INDUSTRIAL CLASSIFICATION: SERVICES-PREPACKAGED SOFTWARE [7372]\n",
    "IRS NUMBER: 911144442\n",
    "STATE OF INCORPORATION: WA\n",
    "FISCAL YEAR END: 0630\n",
    "FILING VALUES:\n",
    "FORM TYPE: 10-K\n",
    "SEC ACT: 1934 Act\n",
    "SEC FILE NUMBER: 001-37845\n",
    "FILM NUMBER: 221115247\n",
    "BUSINESS ADDRESS:\n",
    "STREET 1: ONE MICROSOFT WAY\n",
    "CITY: REDMOND\n",
    "STATE: WA\n",
    "ZIP: 98052-6399\n",
    "BUSINESS PHONE: 425-882-8080\n",
    "MAIL ADDRESS:\n",
    "STREET 1: ONE MICROSOFT WAY\n",
    "CITY: REDMOND\n",
    "STATE: WA\n",
    "ZIP: 98052-6399\n",
    "</SEC-HEADER>\n",
    "<DOCUMENT>\n",
    "<TYPE>10-K\n",
    "<SEQUENCE>1\n",
    "<FILENAME>msft-10k_20220630.htm\n",
    "<DESCRIPTION>10-K\n",
    "<TEXT>\n",
    "\"\"\"\n",
    "\n",
    "# Search for CIK\n",
    "cik_pattern = r\"CENTRAL INDEX KEY:\\s*0*(\\d+)\"\n",
    "cik = re.search(cik_pattern, txt)\n",
    "cik = cik.group(1) if cik else None\n",
    "\n",
    "# Search for ACCESSION NUMBER\n",
    "accession_pattern = r\"ACCESSION NUMBER:\\s*(0*[\\d-]+)\"\n",
    "accession = re.search(accession_pattern, txt)\n",
    "accession = accession.group(1).replace('-', '') if accession else None\n",
    "\n",
    "# Search for FILENAME\n",
    "filename_pattern = r\"<FILENAME>([\\w\\d_-]+\\.htm)\"\n",
    "filename = re.search(filename_pattern, txt)\n",
    "filename = filename.group(1) if filename else None\n",
    "\n",
    "updated_filename = f\"{cik},{accession},{filename}\"\n",
    "print(updated_filename)\n",
    "\n",
    "# Search for REPORT DATE\n",
    "report_date_pattern = r\"CONFORMED PERIOD OF REPORT:\\s*(\\d+)\"\n",
    "report_date = re.search(report_date_pattern, txt)\n",
    "report_date = report_date.group(1) if report_date else None\n",
    "print(report_date)\n"
   ]
  },
  {
   "cell_type": "code",
   "execution_count": 29,
   "metadata": {},
   "outputs": [
    {
     "name": "stderr",
     "output_type": "stream",
     "text": [
      "c:\\Users\\zzyz_\\Downloads\\ingestor\\venv\\Lib\\site-packages\\bs4\\builder\\__init__.py:545: XMLParsedAsHTMLWarning: It looks like you're parsing an XML document using an HTML parser. If this really is an HTML document (maybe it's XHTML?), you can ignore or filter this warning. If it's XML, you should know that using an XML parser will be more reliable. To parse this document as XML, make sure you have the lxml package installed, and pass the keyword argument `features=\"xml\"` into the BeautifulSoup constructor.\n",
      "  warnings.warn(\n"
     ]
    }
   ],
   "source": [
    "from updaters.edgar_updater import process_reports\n",
    "\n",
    "process_reports([\"10-K\",\"10-Q\"], [\"AAPL\"], \"2022-01-01\", \"./docs/history\")"
   ]
  },
  {
   "cell_type": "code",
   "execution_count": 31,
   "metadata": {},
   "outputs": [
    {
     "data": {
      "text/plain": [
       "{}"
      ]
     },
     "execution_count": 31,
     "metadata": {},
     "output_type": "execute_result"
    }
   ],
   "source": [
    "from tqdm.autonotebook import tqdm\n",
    "import pinecone\n",
    "import os\n",
    "from dotenv import load_dotenv\n",
    "from langchain.embeddings.openai import OpenAIEmbeddings\n",
    "load_dotenv()\n",
    "pinecone_key = os.environ[\"PINECONE_API_KEY\"]\n",
    "pinecone_env = os.environ[\"PINECONE_ENV\"]\n",
    "pinecone.init(api_key=pinecone_key, environment=pinecone_env)\n",
    "index = pinecone.Index(\"edgar\")\n",
    "index.delete(deleteAll='true')"
   ]
  },
  {
   "cell_type": "code",
   "execution_count": 53,
   "metadata": {},
   "outputs": [],
   "source": [
    "import chromadb\n",
    "from chromadb.config import Settings\n",
    "# Example setup of the client to connect to your chroma server\n",
    "client = chromadb.Client(Settings(chroma_api_impl=\"rest\", chroma_server_host=\"54.241.40.222\", chroma_server_http_port=8000))"
   ]
  },
  {
   "cell_type": "code",
   "execution_count": 59,
   "metadata": {},
   "outputs": [],
   "source": [
    "from chromadb.utils import embedding_functions\n",
    "from dotenv import load_dotenv\n",
    "load_dotenv()\n",
    "openai_ef = embedding_functions.OpenAIEmbeddingFunction(\n",
    "                api_key=os.environ[\"OPENAI_API_KEY\"],\n",
    "                model_name=\"text-embedding-ada-002\"\n",
    "            )\n",
    "collection = client.create_collection(name=\"edgar\", embedding_function=openai_ef, metadata={\"hnsw:space\": \"cosine\"})"
   ]
  },
  {
   "cell_type": "code",
   "execution_count": 60,
   "metadata": {},
   "outputs": [],
   "source": [
    "collection = client.get_collection(name=\"edgar\", embedding_function=openai_ef)"
   ]
  },
  {
   "cell_type": "code",
   "execution_count": 62,
   "metadata": {},
   "outputs": [],
   "source": [
    "collection.count()\n",
    "client.delete_collection(name=\"edgar\")"
   ]
  }
 ],
 "metadata": {
  "kernelspec": {
   "display_name": "venv",
   "language": "python",
   "name": "python3"
  },
  "language_info": {
   "codemirror_mode": {
    "name": "ipython",
    "version": 3
   },
   "file_extension": ".py",
   "mimetype": "text/x-python",
   "name": "python",
   "nbconvert_exporter": "python",
   "pygments_lexer": "ipython3",
   "version": "3.11.0"
  },
  "orig_nbformat": 4
 },
 "nbformat": 4,
 "nbformat_minor": 2
}
